{
  "nbformat": 4,
  "nbformat_minor": 0,
  "metadata": {
    "colab": {
      "provenance": [],
      "authorship_tag": "ABX9TyOAFR/v8eWhMzVjj2dWjVLM",
      "include_colab_link": true
    },
    "kernelspec": {
      "name": "python3",
      "display_name": "Python 3"
    },
    "language_info": {
      "name": "python"
    }
  },
  "cells": [
    {
      "cell_type": "markdown",
      "metadata": {
        "id": "view-in-github",
        "colab_type": "text"
      },
      "source": [
        "<a href=\"https://colab.research.google.com/github/sahithi-gurrapu24/DSA-collaboration/blob/main/insertion_sort.ipynb\" target=\"_parent\"><img src=\"https://colab.research.google.com/assets/colab-badge.svg\" alt=\"Open In Colab\"/></a>"
      ]
    },
    {
      "cell_type": "code",
      "execution_count": 1,
      "metadata": {
        "colab": {
          "base_uri": "https://localhost:8080/"
        },
        "id": "NhBYrEHTvr1G",
        "outputId": "1ea90901-ab3e-44de-b8ee-b094b5bb5ca2"
      },
      "outputs": [
        {
          "output_type": "stream",
          "name": "stdout",
          "text": [
            "Sorted array: [5, 11, 12, 22, 25, 34, 64, 90]\n"
          ]
        }
      ],
      "source": [
        "my_array = [64, 34, 25, 12, 22, 11, 90, 5]\n",
        "\n",
        "n = len(my_array)\n",
        "for i in range(1,n):\n",
        "    insert_index = i\n",
        "    current_value = my_array.pop(i)\n",
        "    for j in range(i-1, -1, -1):\n",
        "        if my_array[j] > current_value:\n",
        "            insert_index = j\n",
        "    my_array.insert(insert_index, current_value)\n",
        "\n",
        "print(\"Sorted array:\", my_array)"
      ]
    },
    {
      "cell_type": "code",
      "source": [],
      "metadata": {
        "id": "-3VI1RNqv6wl"
      },
      "execution_count": null,
      "outputs": []
    }
  ]
}