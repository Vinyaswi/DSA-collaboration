{
  "nbformat": 4,
  "nbformat_minor": 0,
  "metadata": {
    "colab": {
      "provenance": [],
      "authorship_tag": "ABX9TyOGxkowxhpztROn1B9sXihD",
      "include_colab_link": true
    },
    "kernelspec": {
      "name": "python3",
      "display_name": "Python 3"
    },
    "language_info": {
      "name": "python"
    }
  },
  "cells": [
    {
      "cell_type": "markdown",
      "metadata": {
        "id": "view-in-github",
        "colab_type": "text"
      },
      "source": [
        "<a href=\"https://colab.research.google.com/github/Vinyaswi/DSA-collaboration/blob/main/Selection_sort.ipynb\" target=\"_parent\"><img src=\"https://colab.research.google.com/assets/colab-badge.svg\" alt=\"Open In Colab\"/></a>"
      ]
    },
    {
      "cell_type": "code",
      "execution_count": null,
      "metadata": {
        "id": "PFXfLnE0gnN5"
      },
      "outputs": [],
      "source": [
        "my_array = [64, 34, 25, 5, 22, 11, 90, 12]\n",
        "\n",
        "n = len(my_array)\n",
        "for i in range(n-1):\n",
        "    min_index = i\n",
        "    for j in range(i+1, n):\n",
        "        if my_array[j] < my_array[min_index]:\n",
        "            min_index = j\n",
        "    min_value = my_array.pop(min_index)\n",
        "    my_array.insert(i, min_value)\n",
        "\n",
        "print(\"Sorted array:\", my_array)"
      ]
    }
  ]
}