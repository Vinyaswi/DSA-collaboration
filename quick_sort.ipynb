{
  "nbformat": 4,
  "nbformat_minor": 0,
  "metadata": {
    "colab": {
      "provenance": [],
      "authorship_tag": "ABX9TyMso939XK2EEUFW+DJhdtqV",
      "include_colab_link": true
    },
    "kernelspec": {
      "name": "python3",
      "display_name": "Python 3"
    },
    "language_info": {
      "name": "python"
    }
  },
  "cells": [
    {
      "cell_type": "markdown",
      "metadata": {
        "id": "view-in-github",
        "colab_type": "text"
      },
      "source": [
        "<a href=\"https://colab.research.google.com/github/sahithi-gurrapu24/DSA-collaboration/blob/main/quick_sort.ipynb\" target=\"_parent\"><img src=\"https://colab.research.google.com/assets/colab-badge.svg\" alt=\"Open In Colab\"/></a>"
      ]
    },
    {
      "cell_type": "code",
      "execution_count": 1,
      "metadata": {
        "colab": {
          "base_uri": "https://localhost:8080/"
        },
        "id": "dlaruEpCePb6",
        "outputId": "da34a3d5-bfe5-47d5-9211-a4fc913ee5c4"
      },
      "outputs": [
        {
          "output_type": "stream",
          "name": "stdout",
          "text": [
            "Sorted array: [5, 11, 12, 22, 25, 34, 64, 90]\n"
          ]
        }
      ],
      "source": [
        "def partition(array, low, high):\n",
        "    pivot = array[high]\n",
        "    i = low - 1\n",
        "\n",
        "    for j in range(low, high):\n",
        "        if array[j] <= pivot:\n",
        "            i += 1\n",
        "            array[i], array[j] = array[j], array[i]\n",
        "\n",
        "    array[i+1], array[high] = array[high], array[i+1]\n",
        "    return i+1\n",
        "\n",
        "def quicksort(array, low=0, high=None):\n",
        "    if high is None:\n",
        "        high = len(array) - 1\n",
        "\n",
        "    if low < high:\n",
        "        pivot_index = partition(array, low, high)\n",
        "        quicksort(array, low, pivot_index-1)\n",
        "        quicksort(array, pivot_index+1, high)\n",
        "\n",
        "my_array = [64, 34, 25, 12, 22, 11, 90, 5]\n",
        "quicksort(my_array)\n",
        "print(\"Sorted array:\", my_array)"
      ]
    },
    {
      "cell_type": "code",
      "source": [],
      "metadata": {
        "id": "TX1FsZJJebS3"
      },
      "execution_count": null,
      "outputs": []
    }
  ]
}