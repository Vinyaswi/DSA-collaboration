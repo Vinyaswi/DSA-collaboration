{
  "nbformat": 4,
  "nbformat_minor": 0,
  "metadata": {
    "colab": {
      "provenance": [],
      "authorship_tag": "ABX9TyMM8YR93IvE4BYll0nSKLYN",
      "include_colab_link": true
    },
    "kernelspec": {
      "name": "python3",
      "display_name": "Python 3"
    },
    "language_info": {
      "name": "python"
    }
  },
  "cells": [
    {
      "cell_type": "markdown",
      "metadata": {
        "id": "view-in-github",
        "colab_type": "text"
      },
      "source": [
        "<a href=\"https://colab.research.google.com/github/sahithi-gurrapu24/DSA-collaboration/blob/main/bubble_sort.ipynb\" target=\"_parent\"><img src=\"https://colab.research.google.com/assets/colab-badge.svg\" alt=\"Open In Colab\"/></a>"
      ]
    },
    {
      "cell_type": "code",
      "execution_count": null,
      "metadata": {
        "id": "2Z-tCkBci5gp"
      },
      "outputs": [],
      "source": [
        "my_array = [64, 34, 25, 12, 22, 11, 90, 5]\n",
        "\n",
        "n = len(my_array)\n",
        "for i in range(n-1):\n",
        "    for j in range(n-i-1):\n",
        "        if my_array[j] > my_array[j+1]:\n",
        "            my_array[j], my_array[j+1] = my_array[j+1], my_array[j]\n",
        "\n",
        "print(\"Sorted array:\", my_array)"
      ]
    }
  ]
}