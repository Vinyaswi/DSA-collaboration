{
  "nbformat": 4,
  "nbformat_minor": 0,
  "metadata": {
    "colab": {
      "provenance": [],
      "authorship_tag": "ABX9TyOb4kaeTN0iti0AgxGuR0GA",
      "include_colab_link": true
    },
    "kernelspec": {
      "name": "python3",
      "display_name": "Python 3"
    },
    "language_info": {
      "name": "python"
    }
  },
  "cells": [
    {
      "cell_type": "markdown",
      "metadata": {
        "id": "view-in-github",
        "colab_type": "text"
      },
      "source": [
        "<a href=\"https://colab.research.google.com/github/Vinyaswi/DSA-collaboration/blob/main/merge_sort.ipynb\" target=\"_parent\"><img src=\"https://colab.research.google.com/assets/colab-badge.svg\" alt=\"Open In Colab\"/></a>"
      ]
    },
    {
      "cell_type": "code",
      "execution_count": 1,
      "metadata": {
        "colab": {
          "base_uri": "https://localhost:8080/"
        },
        "id": "c-8H8HAncVFV",
        "outputId": "f5da27dd-3120-4731-a406-35d7cba8377d"
      },
      "outputs": [
        {
          "output_type": "stream",
          "name": "stdout",
          "text": [
            "Sorted array: [-13, -10, 3, 6, 7, 15, 23.5, 55]\n"
          ]
        }
      ],
      "source": [
        "def mergeSort(arr):\n",
        "    if len(arr) <= 1:\n",
        "        return arr\n",
        "\n",
        "    mid = len(arr) // 2\n",
        "    leftHalf = arr[:mid]\n",
        "    rightHalf = arr[mid:]\n",
        "\n",
        "    sortedLeft = mergeSort(leftHalf)\n",
        "    sortedRight = mergeSort(rightHalf)\n",
        "\n",
        "    return merge(sortedLeft, sortedRight)\n",
        "\n",
        "def merge(left, right):\n",
        "    result = []\n",
        "    i = j = 0\n",
        "\n",
        "    while i < len(left) and j < len(right):\n",
        "        if left[i] < right[j]:\n",
        "            result.append(left[i])\n",
        "            i += 1\n",
        "        else:\n",
        "            result.append(right[j])\n",
        "            j += 1\n",
        "\n",
        "    result.extend(left[i:])\n",
        "    result.extend(right[j:])\n",
        "\n",
        "    return result\n",
        "\n",
        "unsortedArr = [3, 7, 6, -10, 15, 23.5, 55, -13]\n",
        "sortedArr = mergeSort(unsortedArr)\n",
        "print(\"Sorted array:\", sortedArr)"
      ]
    },
    {
      "cell_type": "code",
      "source": [],
      "metadata": {
        "id": "GnF9Fgjichw4"
      },
      "execution_count": null,
      "outputs": []
    }
  ]
}